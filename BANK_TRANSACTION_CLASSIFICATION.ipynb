{
  "cells": [
    {
      "metadata": {
        "_uuid": "8f2839f25d086af736a60e9eeb907d3b93b6e0e5",
        "_cell_guid": "b1076dfc-b9ad-4769-8c92-a6c4dae69d19",
        "trusted": true
      },
      "cell_type": "code",
      "source": "import pandas as pd\nimport numpy as np\nimport os\n\n############### LOADING THE EXCEL FILE ####################\n\ndata = pd.read_excel('../input/DA_Test.xlsx')\nprint('----> Data Loaded Successfully')\n############################################################\n\n\n",
      "execution_count": 1,
      "outputs": [
        {
          "output_type": "stream",
          "text": "----> Data Loaded Successfully\n",
          "name": "stdout"
        }
      ]
    },
    {
      "metadata": {
        "trusted": true,
        "_uuid": "d3be3bf5eb0569162df9b6986a8232d49e6c7e9a"
      },
      "cell_type": "code",
      "source": "################# DISPLAYING THE DATA ###############\n\ndata.head(10)\n\n####################################################\n\n",
      "execution_count": 2,
      "outputs": [
        {
          "output_type": "execute_result",
          "execution_count": 2,
          "data": {
            "text/plain": "   Sl. No.           ...             Basis of Classification\n0        1           ...               Initial letter \"RTGS\"\n1        2           ...               Initial letter \"RTGS\"\n2        3           ...             Initial letter \"inwclg\"\n3        4           ...             Initial letter \"inwclg\"\n4        5           ...             Initial letter \"inwclg\"\n5        6           ...               Initial letter \"neft\"\n6        7           ...             Initial letter \"inwclg\"\n7        8           ...             Initial letter \"inwclg\"\n8        9           ...             Initial letter \"inwclg\"\n9       10           ...             Initial letter \"inwclg\"\n\n[10 rows x 9 columns]",
            "text/html": "<div>\n<style scoped>\n    .dataframe tbody tr th:only-of-type {\n        vertical-align: middle;\n    }\n\n    .dataframe tbody tr th {\n        vertical-align: top;\n    }\n\n    .dataframe thead th {\n        text-align: right;\n    }\n</style>\n<table border=\"1\" class=\"dataframe\">\n  <thead>\n    <tr style=\"text-align: right;\">\n      <th></th>\n      <th>Sl. No.</th>\n      <th>Date</th>\n      <th>Particulars</th>\n      <th>Ref No.</th>\n      <th>Debit Amount</th>\n      <th>Credit Amount</th>\n      <th>Balance</th>\n      <th>First Level Classification</th>\n      <th>Basis of Classification</th>\n    </tr>\n  </thead>\n  <tbody>\n    <tr>\n      <th>0</th>\n      <td>1</td>\n      <td>2015-10-01 05:40:40</td>\n      <td>RTGS/SBINR520151001206 28955/G K DAIRYND/SBIN0...</td>\n      <td>NaN</td>\n      <td>NaN</td>\n      <td>400000.0</td>\n      <td>400000.0</td>\n      <td>RTGS Receipt</td>\n      <td>Initial letter \"RTGS\"</td>\n    </tr>\n    <tr>\n      <th>1</th>\n      <td>2</td>\n      <td>2015-10-01 05:40:40</td>\n      <td>RTGS/ICICR4201510010009 2897/GOPALJEEFRESHFAR ...</td>\n      <td>NaN</td>\n      <td>NaN</td>\n      <td>500000.0</td>\n      <td>900000.0</td>\n      <td>RTGS Receipt</td>\n      <td>Initial letter \"RTGS\"</td>\n    </tr>\n    <tr>\n      <th>2</th>\n      <td>3</td>\n      <td>2015-10-01 05:40:40</td>\n      <td>INWCLG 545641 VIJAY MUKESH  CO</td>\n      <td>545641</td>\n      <td>25000.0</td>\n      <td>NaN</td>\n      <td>875000.0</td>\n      <td>Cheque Payment</td>\n      <td>Initial letter \"inwclg\"</td>\n    </tr>\n    <tr>\n      <th>3</th>\n      <td>4</td>\n      <td>2015-10-01 05:40:40</td>\n      <td>INWCLG 545627 SWIFT SECURITAS PVT LTD</td>\n      <td>545627</td>\n      <td>60000.0</td>\n      <td>NaN</td>\n      <td>815000.0</td>\n      <td>Cheque Payment</td>\n      <td>Initial letter \"inwclg\"</td>\n    </tr>\n    <tr>\n      <th>4</th>\n      <td>5</td>\n      <td>2015-10-01 05:40:40</td>\n      <td>INWCLG 545591 GARG ASSOCIATE</td>\n      <td>545591</td>\n      <td>43688.0</td>\n      <td>NaN</td>\n      <td>771312.0</td>\n      <td>Cheque Payment</td>\n      <td>Initial letter \"inwclg\"</td>\n    </tr>\n    <tr>\n      <th>5</th>\n      <td>6</td>\n      <td>2015-10-03 04:51:51</td>\n      <td>NEFT/842792378/GOPALJE E FRESH FARM PRIVATE LI...</td>\n      <td>NaN</td>\n      <td>NaN</td>\n      <td>370000.0</td>\n      <td>1141312.0</td>\n      <td>NEFT Receipt</td>\n      <td>Initial letter \"neft\"</td>\n    </tr>\n    <tr>\n      <th>6</th>\n      <td>7</td>\n      <td>2015-10-03 04:51:51</td>\n      <td>INWCLG 545638 RAM KUMAR SHARMA ADVOCATE</td>\n      <td>545638</td>\n      <td>7200.0</td>\n      <td>NaN</td>\n      <td>1134112.0</td>\n      <td>Cheque Payment</td>\n      <td>Initial letter \"inwclg\"</td>\n    </tr>\n    <tr>\n      <th>7</th>\n      <td>8</td>\n      <td>2015-10-03 04:51:51</td>\n      <td>INWCLG 545640 PREM GUPTA</td>\n      <td>545640</td>\n      <td>50000.0</td>\n      <td>NaN</td>\n      <td>1084112.0</td>\n      <td>Cheque Payment</td>\n      <td>Initial letter \"inwclg\"</td>\n    </tr>\n    <tr>\n      <th>8</th>\n      <td>9</td>\n      <td>2015-10-03 04:51:51</td>\n      <td>INWCLG 545578 LAXMI TRADING CO</td>\n      <td>545578</td>\n      <td>51789.0</td>\n      <td>NaN</td>\n      <td>1032323.0</td>\n      <td>Cheque Payment</td>\n      <td>Initial letter \"inwclg\"</td>\n    </tr>\n    <tr>\n      <th>9</th>\n      <td>10</td>\n      <td>2015-10-03 04:51:51</td>\n      <td>INWCLG 545579 LAXMI TRADING C</td>\n      <td>545579</td>\n      <td>60306.0</td>\n      <td>NaN</td>\n      <td>972017.0</td>\n      <td>Cheque Payment</td>\n      <td>Initial letter \"inwclg\"</td>\n    </tr>\n  </tbody>\n</table>\n</div>"
          },
          "metadata": {}
        }
      ]
    },
    {
      "metadata": {
        "_cell_guid": "79c7e3d0-c299-4dcb-8224-4455121ee9b0",
        "_uuid": "d629ff2d2480ee46fbb7e2d37f6b5fab8052498a",
        "trusted": true
      },
      "cell_type": "code",
      "source": "\n\n################# CHECK FOR MISSING VALUES FOR INPUT & OUTPUT COLUMN ###########\n\ndef draw_missing_values_table(df):\n    nullCount  = df.isnull().sum().sort_values(ascending=False)\n    percentage = (df.isnull().sum().sort_values(ascending=False))*100/df.shape[0]\n    missingTable = pd.concat([nullCount,percentage],axis=1,keys=['Total','Percentage'])\n    return missingTable\n\n\n\ninput_column  = 'Particulars'\noutput_column = 'First Level Classification'\ndraw_missing_values_table(data.loc[:,[input_column,output_column]])\n\n##############################################################################\n\n",
      "execution_count": 3,
      "outputs": [
        {
          "output_type": "execute_result",
          "execution_count": 3,
          "data": {
            "text/plain": "                            Total  Percentage\nFirst Level Classification      0         0.0\nParticulars                     0         0.0",
            "text/html": "<div>\n<style scoped>\n    .dataframe tbody tr th:only-of-type {\n        vertical-align: middle;\n    }\n\n    .dataframe tbody tr th {\n        vertical-align: top;\n    }\n\n    .dataframe thead th {\n        text-align: right;\n    }\n</style>\n<table border=\"1\" class=\"dataframe\">\n  <thead>\n    <tr style=\"text-align: right;\">\n      <th></th>\n      <th>Total</th>\n      <th>Percentage</th>\n    </tr>\n  </thead>\n  <tbody>\n    <tr>\n      <th>First Level Classification</th>\n      <td>0</td>\n      <td>0.0</td>\n    </tr>\n    <tr>\n      <th>Particulars</th>\n      <td>0</td>\n      <td>0.0</td>\n    </tr>\n  </tbody>\n</table>\n</div>"
          },
          "metadata": {}
        }
      ]
    },
    {
      "metadata": {
        "trusted": true,
        "_uuid": "00d9cce480636fb35b36255fc1ac11fbecdb9c9d"
      },
      "cell_type": "code",
      "source": "################ PERFORMING PREPROCESSING OF INPUT TEXT ###################\ndef preprocess_text(df,column):\n    import re\n    for i in range(len(df)):\n        ######  REMOVING SPECIAL CHARACTERS\n        df.loc[i,column]  = re.sub(r'\\W',' ',str(df.loc[i,column]))\n    \n        ######  REMOVING ALL SINGLE CHARACTERS\n        df.loc[i,column]  = re.sub(r'\\s+[a-zA-Z]\\s+',' ',str(df.loc[i,column]))\n    \n        ######  REMOVING MULTIPLE SPACES WITH SINGLE SPACE\n        df.loc[i,column]  = re.sub(r'\\s+',' ',str(df.loc[i,column]))\n        \n    return df\n\n\ndata = preprocess_text(data,input_column)\n\ndata[input_column].head()\n",
      "execution_count": 8,
      "outputs": [
        {
          "output_type": "execute_result",
          "execution_count": 8,
          "data": {
            "text/plain": "0      RTGS SBINR520151001206 28955 DAIRYND SBIN000175\n1    RTGS ICICR4201510010009 2897 GOPALJEEFRESHFAR ...\n2                        INWCLG 545641 VIJAY MUKESH CO\n3                INWCLG 545627 SWIFT SECURITAS PVT LTD\n4                         INWCLG 545591 GARG ASSOCIATE\nName: Particulars, dtype: object"
          },
          "metadata": {}
        }
      ]
    },
    {
      "metadata": {
        "trusted": true,
        "_uuid": "5cbb0fe8b05193a715ae377180a2be358a65bb46"
      },
      "cell_type": "code",
      "source": "\n################# DIVIDING DATA INTO INPUT OUTPUT ######################\n\nX = data.loc[:,input_column]\ny = data.loc[:,output_column]\nprint('Data Divided Successfully Into Input & Output')\n#######################################################################\n",
      "execution_count": 11,
      "outputs": [
        {
          "output_type": "stream",
          "text": "Data Divided Successfully Into Input & Output\n",
          "name": "stdout"
        }
      ]
    },
    {
      "metadata": {
        "trusted": true,
        "_uuid": "c30cf34fd2e62f6708ef663c99b4aeaafe4011c7"
      },
      "cell_type": "code",
      "source": "\n############### USING BAG OF WORDS MODEL TO CONVERT FEATURES INTO NUMBERS ############\nfrom sklearn.feature_extraction.text import CountVectorizer\ncount_vect = CountVectorizer()\nX_counts   = count_vect.fit_transform(X).toarray()\nprint(X_counts.shape)\n######################################################################################\n",
      "execution_count": 12,
      "outputs": [
        {
          "output_type": "stream",
          "text": "(7695, 7205)\n",
          "name": "stdout"
        }
      ]
    },
    {
      "metadata": {
        "trusted": true,
        "_uuid": "d613eb05318987d4d42b5d338bbfa9ff39ba61a7"
      },
      "cell_type": "code",
      "source": "\n############### TRAIN - TEST DATA SPLIT #################\n\nfrom sklearn.model_selection import train_test_split\nX_train, X_test, y_train, y_test = train_test_split(X_counts, y, test_size=0.3, random_state=0)\nprint('Data Divided Into Train & Test')\n########################################################\n\n",
      "execution_count": 14,
      "outputs": [
        {
          "output_type": "stream",
          "text": "Data Divided Into Train & Test\n",
          "name": "stdout"
        }
      ]
    },
    {
      "metadata": {
        "trusted": true,
        "_uuid": "b6edfaa4472fee3fbba0fdcce834a10ca4792849"
      },
      "cell_type": "code",
      "source": "################ PERFORMING NAIVE BAYESIAN CLASSIFICATION ##############\n\nfrom sklearn.naive_bayes import MultinomialNB\nclf = MultinomialNB().fit(X_train, y_train)\n\npredict = clf.predict(X_test)\n\nprint('Accuracy of The Model is =====> '+str(round(np.mean(predict == y_test)*100,2))+'%')\n\n#######################################################################\n",
      "execution_count": 19,
      "outputs": [
        {
          "output_type": "stream",
          "text": "Accuracy of The Model is =====> 95.02%\n",
          "name": "stdout"
        }
      ]
    }
  ],
  "metadata": {
    "kernelspec": {
      "display_name": "Python 3",
      "language": "python",
      "name": "python3"
    },
    "language_info": {
      "name": "python",
      "version": "3.6.6",
      "mimetype": "text/x-python",
      "codemirror_mode": {
        "name": "ipython",
        "version": 3
      },
      "pygments_lexer": "ipython3",
      "nbconvert_exporter": "python",
      "file_extension": ".py"
    }
  },
  "nbformat": 4,
  "nbformat_minor": 1
}